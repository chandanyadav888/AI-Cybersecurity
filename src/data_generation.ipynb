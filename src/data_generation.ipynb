{
  "nbformat": 4,
  "nbformat_minor": 0,
  "metadata": {
    "colab": {
      "provenance": [],
      "authorship_tag": "ABX9TyOKekpftQUpqpk+oFk0EFJ/",
      "include_colab_link": true
    },
    "kernelspec": {
      "name": "python3",
      "display_name": "Python 3"
    },
    "language_info": {
      "name": "python"
    }
  },
  "cells": [
    {
      "cell_type": "markdown",
      "metadata": {
        "id": "view-in-github",
        "colab_type": "text"
      },
      "source": [
        "<a href=\"https://colab.research.google.com/github/chandanyadav888/AI-Cybersecurity/blob/main/src/data_generation.ipynb\" target=\"_parent\"><img src=\"https://colab.research.google.com/assets/colab-badge.svg\" alt=\"Open In Colab\"/></a>"
      ]
    },
    {
      "cell_type": "markdown",
      "source": [
        "Task to do:\n",
        "\n",
        "* generate synthetic dataset for the demo of model building\n",
        "* preprocess and visualize the dataset\n",
        "* perform feature engineering\n",
        "* select machine learning model\n",
        "* train and evaluate the model"
      ],
      "metadata": {
        "id": "yuz61zjPqNhG"
      }
    },
    {
      "cell_type": "code",
      "source": [
        "#generating synthetic dataset\n",
        "import pandas as pd\n",
        "import numpy as np\n",
        "from datetime import datetime, timedelta"
      ],
      "metadata": {
        "id": "Kj5oxZceqkcR"
      },
      "execution_count": 2,
      "outputs": []
    },
    {
      "cell_type": "code",
      "source": [
        "def generate_normal_traffic():\n",
        "  return {\n",
        "      'timestamp': datetime.now() - timedelta(seconds=np.random.randint(0, 86400)),\n",
        "      'source_ip': f'192.168.{np.random.randint(0, 255)}.{np.random.randint(0, 255)}',\n",
        "      'destination_ip': f'10.0.{np.random.randint(0, 255)}.{np.random.randint(0, 255)}',\n",
        "      'protocol': np.random.choice(['TCP', 'UDP', 'ICMP']),\n",
        "      'port': np.random.randint(1, 65535),\n",
        "      'bytes': np.random.normal(1500, 500),\n",
        "      'packets': np.random.randint(1, 100),\n",
        "      'duration': np.random.exponential(30),\n",
        "      'is_attack': 0\n",
        "  }"
      ],
      "metadata": {
        "id": "yxt5kzmGq2qZ"
      },
      "execution_count": 6,
      "outputs": []
    },
    {
      "cell_type": "code",
      "source": [
        "def generate_attack_traffic():\n",
        "  \"\"\"Generate attack traffic data.\"\"\"\n",
        "  attack_types = {\n",
        "      'ddos': {\n",
        "          'bytes': np.random.normal(15000, 1000),\n",
        "          'packets': np.random.randint(500, 1000),\n",
        "          'duration': np.random.exponential(5)\n",
        "      },\n",
        "      'port_scan': {\n",
        "          'bytes': np.random.normal(100, 20),\n",
        "          'packets': np.random.randint(1, 3),\n",
        "          'duration': np.random.exponential(0.1)\n",
        "      },\n",
        "      'brute_force':{\n",
        "          'bytes': np.random.normal(500, 100),\n",
        "          'packets': np.random.randint(10, 50),\n",
        "          'duration': np.random.exponential(1)\n",
        "      },\n",
        "  }\n",
        "\n",
        "  attack_type = np.random.choice(list(attack_types.keys()))\n",
        "  attack_params = attack_types[attack_type]\n",
        "\n",
        "  return {\n",
        "      'timestamp': datetime.now()- timedelta(seconds = np.random.randint(0, 86400)),\n",
        "      'source_ip': f\"45.{np.random.randint(1, 255)}.{np.random.randint(1, 255)}.{np.random.randint(1, 255)}\",\n",
        "      'destination_ip': f\"10.0.{np.random.randint(1, 255)}.{np.random.randint(1, 255)}\",\n",
        "      'port': np.random.randint(1, 65535),\n",
        "      'bytes': attack_params['bytes'],\n",
        "      'packets': attack_params['packets'],\n",
        "      'duration': attack_params['duration'],\n",
        "      'is_attack': 1,\n",
        "      'attack_type': attack_type\n",
        "  }"
      ],
      "metadata": {
        "id": "hWJSD3Smsveg"
      },
      "execution_count": null,
      "outputs": []
    }
  ]
}